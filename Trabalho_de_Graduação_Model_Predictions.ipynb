{
 "cells": [
  {
   "cell_type": "markdown",
   "metadata": {
    "colab_type": "text",
    "id": "3rm30fJS_Tfj"
   },
   "source": [
    "# **Bibliotecas e dependências**"
   ]
  },
  {
   "cell_type": "code",
   "execution_count": null,
   "metadata": {
    "colab": {},
    "colab_type": "code",
    "id": "8Xo2sz1xY8NH",
    "outputId": "80fb7f0a-c3c1-4e0d-dfa0-a3a7f832f4c5"
   },
   "outputs": [
    {
     "name": "stderr",
     "output_type": "stream",
     "text": [
      "C:\\Users\\jvalh\\anaconda3\\lib\\site-packages\\tensorflow\\python\\framework\\dtypes.py:516: FutureWarning: Passing (type, 1) or '1type' as a synonym of type is deprecated; in a future version of numpy, it will be understood as (type, (1,)) / '(1,)type'.\n",
      "  _np_qint8 = np.dtype([(\"qint8\", np.int8, 1)])\n",
      "C:\\Users\\jvalh\\anaconda3\\lib\\site-packages\\tensorflow\\python\\framework\\dtypes.py:517: FutureWarning: Passing (type, 1) or '1type' as a synonym of type is deprecated; in a future version of numpy, it will be understood as (type, (1,)) / '(1,)type'.\n",
      "  _np_quint8 = np.dtype([(\"quint8\", np.uint8, 1)])\n",
      "C:\\Users\\jvalh\\anaconda3\\lib\\site-packages\\tensorflow\\python\\framework\\dtypes.py:518: FutureWarning: Passing (type, 1) or '1type' as a synonym of type is deprecated; in a future version of numpy, it will be understood as (type, (1,)) / '(1,)type'.\n",
      "  _np_qint16 = np.dtype([(\"qint16\", np.int16, 1)])\n",
      "C:\\Users\\jvalh\\anaconda3\\lib\\site-packages\\tensorflow\\python\\framework\\dtypes.py:519: FutureWarning: Passing (type, 1) or '1type' as a synonym of type is deprecated; in a future version of numpy, it will be understood as (type, (1,)) / '(1,)type'.\n",
      "  _np_quint16 = np.dtype([(\"quint16\", np.uint16, 1)])\n",
      "C:\\Users\\jvalh\\anaconda3\\lib\\site-packages\\tensorflow\\python\\framework\\dtypes.py:520: FutureWarning: Passing (type, 1) or '1type' as a synonym of type is deprecated; in a future version of numpy, it will be understood as (type, (1,)) / '(1,)type'.\n",
      "  _np_qint32 = np.dtype([(\"qint32\", np.int32, 1)])\n",
      "C:\\Users\\jvalh\\anaconda3\\lib\\site-packages\\tensorflow\\python\\framework\\dtypes.py:525: FutureWarning: Passing (type, 1) or '1type' as a synonym of type is deprecated; in a future version of numpy, it will be understood as (type, (1,)) / '(1,)type'.\n",
      "  np_resource = np.dtype([(\"resource\", np.ubyte, 1)])\n",
      "C:\\Users\\jvalh\\anaconda3\\lib\\site-packages\\tensorboard\\compat\\tensorflow_stub\\dtypes.py:541: FutureWarning: Passing (type, 1) or '1type' as a synonym of type is deprecated; in a future version of numpy, it will be understood as (type, (1,)) / '(1,)type'.\n",
      "  _np_qint8 = np.dtype([(\"qint8\", np.int8, 1)])\n",
      "C:\\Users\\jvalh\\anaconda3\\lib\\site-packages\\tensorboard\\compat\\tensorflow_stub\\dtypes.py:542: FutureWarning: Passing (type, 1) or '1type' as a synonym of type is deprecated; in a future version of numpy, it will be understood as (type, (1,)) / '(1,)type'.\n",
      "  _np_quint8 = np.dtype([(\"quint8\", np.uint8, 1)])\n",
      "C:\\Users\\jvalh\\anaconda3\\lib\\site-packages\\tensorboard\\compat\\tensorflow_stub\\dtypes.py:543: FutureWarning: Passing (type, 1) or '1type' as a synonym of type is deprecated; in a future version of numpy, it will be understood as (type, (1,)) / '(1,)type'.\n",
      "  _np_qint16 = np.dtype([(\"qint16\", np.int16, 1)])\n",
      "C:\\Users\\jvalh\\anaconda3\\lib\\site-packages\\tensorboard\\compat\\tensorflow_stub\\dtypes.py:544: FutureWarning: Passing (type, 1) or '1type' as a synonym of type is deprecated; in a future version of numpy, it will be understood as (type, (1,)) / '(1,)type'.\n",
      "  _np_quint16 = np.dtype([(\"quint16\", np.uint16, 1)])\n",
      "C:\\Users\\jvalh\\anaconda3\\lib\\site-packages\\tensorboard\\compat\\tensorflow_stub\\dtypes.py:545: FutureWarning: Passing (type, 1) or '1type' as a synonym of type is deprecated; in a future version of numpy, it will be understood as (type, (1,)) / '(1,)type'.\n",
      "  _np_qint32 = np.dtype([(\"qint32\", np.int32, 1)])\n",
      "C:\\Users\\jvalh\\anaconda3\\lib\\site-packages\\tensorboard\\compat\\tensorflow_stub\\dtypes.py:550: FutureWarning: Passing (type, 1) or '1type' as a synonym of type is deprecated; in a future version of numpy, it will be understood as (type, (1,)) / '(1,)type'.\n",
      "  np_resource = np.dtype([(\"resource\", np.ubyte, 1)])\n"
     ]
    }
   ],
   "source": [
    "# Importação de bibliotecas utilizadas.\n",
    "import pandas as pd\n",
    "import numpy as np\n",
    "import tensorflow as tf\n",
    "import tensorflow.keras\n",
    "\n",
    "from sklearn.linear_model import Perceptron\n",
    "from sklearn.model_selection import cross_val_score \n",
    "from sklearn.model_selection import train_test_split\n",
    "from sklearn.metrics import classification_report \n",
    "from sklearn.metrics import confusion_matrix\n",
    "from sklearn.metrics import roc_auc_score\n",
    "from sklearn.neural_network import MLPClassifier\n",
    "\n",
    "from tensorflow import keras\n",
    "from tensorflow.keras import layers\n",
    "from tensorflow.keras.layers import Activation\n",
    "from tensorflow.keras.layers import Dense\n",
    "from tensorflow.keras.models import Sequential"
   ]
  },
  {
   "cell_type": "markdown",
   "metadata": {
    "colab_type": "text",
    "id": "Dy7AeB53_ZYw"
   },
   "source": [
    "# **Manipulação do conjunto de dados**"
   ]
  },
  {
   "cell_type": "code",
   "execution_count": null,
   "metadata": {
    "colab": {},
    "colab_type": "code",
    "id": "43l_aB1RY8NM"
   },
   "outputs": [],
   "source": [
    "# Especificação dos tipos de dados para menor uso de memória.\n",
    "dtypes = {\n",
    "        'MachineIdentifier':                                    'category',\n",
    "        'EngineVersion':                                        'category',\n",
    "        'AppVersion':                                           'category',\n",
    "        'AvSigVersion':                                         'category',\n",
    "        'RtpStateBitfield':                                     'float16',\n",
    "        'IsSxsPassiveMode':                                     'int8',\n",
    "        'AVProductStatesIdentifier':                            'float32',\n",
    "        'AVProductsInstalled':                                  'float16',\n",
    "        'AVProductsEnabled':                                    'float16',\n",
    "        'HasTpm':                                               'int8',\n",
    "        'CountryIdentifier':                                    'int16',\n",
    "        'CityIdentifier':                                       'float32',\n",
    "        'OrganizationIdentifier':                               'float16',\n",
    "        'GeoNameIdentifier':                                    'float16',\n",
    "        'LocaleEnglishNameIdentifier':                          'int8',\n",
    "        'Platform':                                             'category',\n",
    "        'Processor':                                            'category',\n",
    "        'OsVer':                                                'category',\n",
    "        'OsBuild':                                              'int16',\n",
    "        'OsSuite':                                              'int16',\n",
    "        'OsPlatformSubRelease':                                 'category',\n",
    "        'OsBuildLab':                                           'category',\n",
    "        'SkuEdition':                                           'category',\n",
    "        'IsProtected':                                          'float16',\n",
    "        'SMode':                                                'float16',\n",
    "        'IeVerIdentifier':                                      'float16',\n",
    "        'SmartScreen':                                          'category',\n",
    "        'Firewall':                                             'float16',\n",
    "        'Census_MDC2FormFactor':                                'category',\n",
    "        'Census_DeviceFamily':                                  'category',\n",
    "        'Census_OEMNameIdentifier':                             'float16',\n",
    "        'Census_OEMModelIdentifier':                            'float32',\n",
    "        'Census_ProcessorCoreCount':                            'float16',\n",
    "        'Census_ProcessorManufacturerIdentifier':               'float16',\n",
    "        'Census_ProcessorModelIdentifier':                      'float16',\n",
    "        'Census_PrimaryDiskTotalCapacity':                      'float32',\n",
    "        'Census_PrimaryDiskTypeName':                           'category',\n",
    "        'Census_SystemVolumeTotalCapacity':                     'float32',\n",
    "        'Census_HasOpticalDiskDrive':                           'int8',\n",
    "        'Census_TotalPhysicalRAM':                              'float32',\n",
    "        'Census_ChassisTypeName':                               'category',\n",
    "        'Census_InternalPrimaryDiagonalDisplaySizeInInches':    'float16',\n",
    "        'Census_InternalPrimaryDisplayResolutionHorizontal':    'float16',\n",
    "        'Census_InternalPrimaryDisplayResolutionVertical':      'float16',\n",
    "        'Census_PowerPlatformRoleName':                         'category',\n",
    "        'Census_OSVersion':                                     'category',\n",
    "        'Census_OSArchitecture':                                'category',\n",
    "        'Census_OSBranch':                                      'category',\n",
    "        'Census_OSBuildNumber':                                 'int16',\n",
    "        'Census_OSBuildRevision':                               'int32',\n",
    "        'Census_OSEdition':                                     'category',\n",
    "        'Census_OSSkuName':                                     'category',\n",
    "        'Census_OSInstallTypeName':                             'category',\n",
    "        'Census_OSInstallLanguageIdentifier':                   'float16',\n",
    "        'Census_OSUILocaleIdentifier':                          'int16',\n",
    "        'Census_OSWUAutoUpdateOptionsName':                     'category',\n",
    "        'Census_IsPortableOperatingSystem':                     'int8',\n",
    "        'Census_GenuineStateName':                              'category',\n",
    "        'Census_ActivationChannel':                             'category',\n",
    "        'Census_FlightRing':                                    'category',\n",
    "        'Census_FirmwareManufacturerIdentifier':                'float16',\n",
    "        'Census_FirmwareVersionIdentifier':                     'float32',\n",
    "        'Census_IsSecureBootEnabled':                           'int8',\n",
    "        'Census_IsVirtualDevice':                               'float16',\n",
    "        'Census_IsTouchEnabled':                                'int8',\n",
    "        'Census_IsPenCapable':                                  'int8',\n",
    "        'Census_IsAlwaysOnAlwaysConnectedCapable':              'float16',\n",
    "        'Wdft_IsGamer':                                         'float16',\n",
    "        'Wdft_RegionIdentifier':                                'float16',\n",
    "        'HasDetections':                                        'int8',\n",
    "        'Census_MDC2FormFactor_new':                            'int64'\n",
    "        }"
   ]
  },
  {
   "cell_type": "code",
   "execution_count": null,
   "metadata": {
    "colab": {},
    "colab_type": "code",
    "id": "XCauEC3yY8NQ"
   },
   "outputs": [],
   "source": [
    "# Carregamento do conjunto de dados\n",
    "df = pd.read_csv('MMP_Cleaned_Encoded.csv', sep = ',', \n",
    "                 index_col= 'MachineIdentifier', dtype = dtypes)"
   ]
  },
  {
   "cell_type": "code",
   "execution_count": null,
   "metadata": {
    "colab": {},
    "colab_type": "code",
    "id": "-O1X-itzY8NT"
   },
   "outputs": [],
   "source": [
    "# Seleção dos registros utilizados.\n",
    "df_size = 200000\n",
    "df = df.sample(n = df_size)"
   ]
  },
  {
   "cell_type": "code",
   "execution_count": null,
   "metadata": {
    "colab": {},
    "colab_type": "code",
    "id": "b1q5QkIX9rQV"
   },
   "outputs": [],
   "source": [
    "# Exportação do conjunto de dados utilizado (sample).\n",
    "df.to_csv('MMP_Sample.csv', index=False)"
   ]
  },
  {
   "cell_type": "code",
   "execution_count": null,
   "metadata": {
    "colab": {},
    "colab_type": "code",
    "id": "-cCkQ9uRY8NW"
   },
   "outputs": [],
   "source": [
    "# Indicação e atribuição das variáveis dependentes e independentes.\n",
    "X = df.drop(['HasDetections'], axis = 1)\n",
    "y = df['HasDetections']"
   ]
  },
  {
   "cell_type": "code",
   "execution_count": null,
   "metadata": {
    "colab": {},
    "colab_type": "code",
    "id": "Ql0QWVaCY8NZ"
   },
   "outputs": [],
   "source": [
    "# Tratamento de variáveis categóricas para utilização dos modelos.\n",
    "Xdummies_df = pd.get_dummies(X)\n",
    "X = Xdummies_df.values"
   ]
  },
  {
   "cell_type": "code",
   "execution_count": null,
   "metadata": {
    "colab": {},
    "colab_type": "code",
    "id": "9yf-OhzNY8Nd"
   },
   "outputs": [],
   "source": [
    "# Divisão do conjunto de dados em subconjuntos de treino e teste.\n",
    "X_train, X_valid, y_train, y_valid = train_test_split(X, y, test_size = 0.25, \n",
    "                                                      train_size = 0.75, \n",
    "                                                      random_state = 0)"
   ]
  },
  {
   "cell_type": "markdown",
   "metadata": {
    "colab_type": "text",
    "id": "WapMTUMPccoN"
   },
   "source": [
    "# **Definição dos modelos**"
   ]
  },
  {
   "cell_type": "markdown",
   "metadata": {
    "colab_type": "text",
    "id": "JId6vSlIchu_"
   },
   "source": [
    "## **Perceptron**"
   ]
  },
  {
   "cell_type": "code",
   "execution_count": null,
   "metadata": {
    "colab": {},
    "colab_type": "code",
    "id": "sUWCgv_h9rQj"
   },
   "outputs": [],
   "source": [
    "# Implementação do modelo Perceptron, presente na biblioteca Scikit-Learn.\n",
    "perceptron = Perceptron(penalty='l1', alpha=0.0001, fit_intercept=True, \n",
    "                        max_iter=1000, tol=0.001, shuffle=True, verbose=0,\n",
    "                        eta0=1.0, n_jobs=None, random_state=0, \n",
    "                        early_stopping=False, validation_fraction=0.1, \n",
    "                        n_iter_no_change=5, class_weight=None, \n",
    "                        warm_start=False)"
   ]
  },
  {
   "cell_type": "markdown",
   "metadata": {
    "colab_type": "text",
    "id": "HEs_1GvQY_Tb"
   },
   "source": [
    "## **MLPClassifier**"
   ]
  },
  {
   "cell_type": "code",
   "execution_count": null,
   "metadata": {
    "colab": {},
    "colab_type": "code",
    "id": "cVvzx3lQ9rQ0"
   },
   "outputs": [],
   "source": [
    "# Implementação do modelo MLPClassifier, presente na biblioteca Scikit-Learn.\n",
    "mlpc = MLPClassifier(hidden_layer_sizes=(100, 5), activation='tanh', \n",
    "                                solver='lbfgs', alpha=0.0001, batch_size='auto', \n",
    "                                learning_rate='constant', \n",
    "                                learning_rate_init=0.001, power_t=0.5, \n",
    "                                max_iter=200, shuffle=True, random_state=None, \n",
    "                                tol=0.0001, verbose=False, warm_start=False,\n",
    "                                momentum=0.9, nesterovs_momentum=True, \n",
    "                                early_stopping=False, validation_fraction=0.1,\n",
    "                                beta_1=0.9, beta_2=0.999, epsilon=1e-08,\n",
    "                                n_iter_no_change=10, max_fun=15000)"
   ]
  },
  {
   "cell_type": "markdown",
   "metadata": {
    "colab_type": "text",
    "id": "HJPqC4mTaKah"
   },
   "source": [
    "## **Sequential**"
   ]
  },
  {
   "cell_type": "code",
   "execution_count": null,
   "metadata": {
    "colab": {},
    "colab_type": "code",
    "id": "GMo-RY9jY8N6",
    "outputId": "7ea91dba-995f-4291-805c-614c16d78ca2"
   },
   "outputs": [
    {
     "name": "stdout",
     "output_type": "stream",
     "text": [
      "WARNING:tensorflow:From C:\\Users\\jvalh\\anaconda3\\lib\\site-packages\\tensorflow\\python\\keras\\initializers.py:143: calling RandomNormal.__init__ (from tensorflow.python.ops.init_ops) with dtype is deprecated and will be removed in a future version.\n",
      "Instructions for updating:\n",
      "Call initializer instance with the dtype argument instead of passing it to the constructor\n"
     ]
    }
   ],
   "source": [
    "# Implementação do modelo Sequential, presente na API Keras de TensorFlow.\n",
    "sequential = keras.Sequential()\n",
    "sequential.add(Dense(100, input_dim=X.shape[1], activation='tanh', \n",
    "                     kernel_initializer='random_normal'))\n",
    "sequential.add(Dense(50, activation='tanh', \n",
    "                     kernel_initializer='random_normal'))\n",
    "sequential.add(Dense(100, activation='tanh', \n",
    "                     kernel_initializer='random_normal'))\n",
    "sequential.add(Dense(50, activation='tanh', \n",
    "                     kernel_initializer='random_normal'))\n",
    "sequential.add(Dense(100, activation='tanh', \n",
    "                     kernel_initializer='random_normal'))\n",
    "sequential.add(Dense(1, activation='tanh', \n",
    "                     kernel_initializer='random_normal'))\n",
    "sequential.compile(loss='binary_crossentropy', \n",
    "                   optimizer=tensorflow.keras.optimizers.Adam(), \n",
    "                   metrics =['accuracy'])"
   ]
  },
  {
   "cell_type": "markdown",
   "metadata": {
    "colab_type": "text",
    "id": "7Bwjr62O92MV"
   },
   "source": [
    "# **Treinamento e previsões**"
   ]
  },
  {
   "cell_type": "code",
   "execution_count": null,
   "metadata": {
    "colab": {},
    "colab_type": "code",
    "id": "aC8Qi869Y8Ng"
   },
   "outputs": [],
   "source": [
    "# Treinamento e realização das predições para o modelo Perceptron.\n",
    "perceptron.fit(X_train, y_train)\n",
    "\n",
    "perceptron_predictions = perceptron.predict(X_valid)\n",
    "perceptron_rocauc = roc_auc_score(y_valid, perceptron_predictions)"
   ]
  },
  {
   "cell_type": "code",
   "execution_count": null,
   "metadata": {
    "colab": {},
    "colab_type": "code",
    "id": "oN2HevlCZ8pL",
    "outputId": "185bfe4d-3b14-4a2b-e002-46a55004655e"
   },
   "outputs": [
    {
     "name": "stderr",
     "output_type": "stream",
     "text": [
      "C:\\Users\\jvalh\\anaconda3\\lib\\site-packages\\sklearn\\neural_network\\_multilayer_perceptron.py:470: ConvergenceWarning: lbfgs failed to converge (status=1):\n",
      "STOP: TOTAL NO. of ITERATIONS REACHED LIMIT.\n",
      "\n",
      "Increase the number of iterations (max_iter) or scale the data as shown in:\n",
      "    https://scikit-learn.org/stable/modules/preprocessing.html\n",
      "  self.n_iter_ = _check_optimize_result(\"lbfgs\", opt_res, self.max_iter)\n"
     ]
    }
   ],
   "source": [
    "# Treinamento e realização das predições para o modelo MLPClassifier.\n",
    "mlpc.fit(X_train, y_train)\n",
    "\n",
    "mlpc_predictions = mlpc.predict(X_valid)\n",
    "mlpc_roc = roc_auc_score(y_valid, mlpc_predictions)"
   ]
  },
  {
   "cell_type": "code",
   "execution_count": null,
   "metadata": {
    "colab": {},
    "colab_type": "code",
    "id": "YDlsrEI29rRD",
    "outputId": "8009a9e8-2afb-4419-f627-142e0fec7d49"
   },
   "outputs": [
    {
     "name": "stdout",
     "output_type": "stream",
     "text": [
      "WARNING:tensorflow:From C:\\Users\\jvalh\\anaconda3\\lib\\site-packages\\tensorflow\\python\\ops\\math_grad.py:1250: add_dispatch_support.<locals>.wrapper (from tensorflow.python.ops.array_ops) is deprecated and will be removed in a future version.\n",
      "Instructions for updating:\n",
      "Use tf.where in 2.0, which has the same broadcast rule as np.where\n"
     ]
    }
   ],
   "source": [
    "# Treinamento e realização das predições para o modelo Sequential.\n",
    "sequential.fit(X_train, y_train, validation_data=(X_valid, y_valid), \n",
    "               verbose=0, epochs=200)\n",
    "\n",
    "sequential_predictions = sequential.predict(X_valid)\n",
    "sequential_roc = roc_auc_score(y_valid, sequential_predictions)"
   ]
  },
  {
   "cell_type": "markdown",
   "metadata": {
    "colab_type": "text",
    "id": "SBED48vL-0mo"
   },
   "source": [
    "# **Avaliação e pontuações**"
   ]
  },
  {
   "cell_type": "code",
   "execution_count": null,
   "metadata": {
    "colab": {},
    "colab_type": "code",
    "id": "CGZivSbLY8Nj",
    "outputId": "e394eb22-747a-423e-c4e7-9b40112bb9ca"
   },
   "outputs": [
    {
     "name": "stdout",
     "output_type": "stream",
     "text": [
      "\n",
      "----- Perceptron (Scikit-Learn) -----\n",
      "\n",
      "Pontuação ROC AUC: 0.5166280401088992\n",
      "\n",
      "Matriz de confusão: \n",
      " [[12395 12510]\n",
      " [11655 13440]]\n",
      "\n",
      "Relatório de classificação: \n",
      "               precision    recall  f1-score   support\n",
      "\n",
      "           0       0.52      0.50      0.51     24905\n",
      "           1       0.52      0.54      0.53     25095\n",
      "\n",
      "    accuracy                           0.52     50000\n",
      "   macro avg       0.52      0.52      0.52     50000\n",
      "weighted avg       0.52      0.52      0.52     50000\n",
      "\n"
     ]
    }
   ],
   "source": [
    "print('\\n----- Perceptron (Scikit-Learn) -----')\n",
    "print('\\nPontuação ROC AUC:', perceptron_rocauc)\n",
    "print('\\nMatriz de confusão: \\n', \n",
    "      confusion_matrix(y_valid, perceptron_predictions))\n",
    "print('\\nRelatório de classificação: \\n', \n",
    "      classification_report(y_valid, perceptron_predictions))"
   ]
  },
  {
   "cell_type": "code",
   "execution_count": null,
   "metadata": {
    "colab": {},
    "colab_type": "code",
    "id": "82v_28cJZ8pO",
    "outputId": "489edc00-d3ce-464c-8a4e-4ff0d8197142"
   },
   "outputs": [
    {
     "name": "stdout",
     "output_type": "stream",
     "text": [
      "\n",
      "----- MLPClassifier (Scikit-Learn) -----\n",
      "\n",
      "Pontuação ROC AUC: 0.5074425514704433\n",
      "\n",
      "Matriz de confusão: \n",
      " [[19995  4910]\n",
      " [19774  5321]]\n",
      "\n",
      "Relatório de classificação: \n",
      "               precision    recall  f1-score   support\n",
      "\n",
      "           0       0.50      0.80      0.62     24905\n",
      "           1       0.52      0.21      0.30     25095\n",
      "\n",
      "    accuracy                           0.51     50000\n",
      "   macro avg       0.51      0.51      0.46     50000\n",
      "weighted avg       0.51      0.51      0.46     50000\n",
      "\n"
     ]
    }
   ],
   "source": [
    "print('\\n----- MLPClassifier (Scikit-Learn) -----')\n",
    "print('\\nPontuação ROC AUC:', mlpc_roc)\n",
    "print('\\nMatriz de confusão: \\n', \n",
    "      confusion_matrix(y_valid, mlpc_predictions))\n",
    "print('\\nRelatório de classificação: \\n', \n",
    "      classification_report(y_valid, mlpc_predictions))"
   ]
  },
  {
   "cell_type": "code",
   "execution_count": null,
   "metadata": {
    "colab": {},
    "colab_type": "code",
    "id": "V9lF33FN9rRH",
    "outputId": "23de8464-afd6-416b-c6b7-9f3b0324a00e"
   },
   "outputs": [
    {
     "name": "stdout",
     "output_type": "stream",
     "text": [
      "\n",
      "----- Sequential (TensorFlow) -----\n",
      "\n",
      "Pontuação ROC AUC: 0.49801113928085117\n",
      "\n",
      "Matriz de confusão: \n",
      " [[    0 24905]\n",
      " [    0 25095]]\n",
      "\n",
      "Relatório de classificação: \n",
      "               precision    recall  f1-score   support\n",
      "\n",
      "           0       0.00      0.00      0.00     24905\n",
      "           1       0.50      1.00      0.67     25095\n",
      "\n",
      "    accuracy                           0.50     50000\n",
      "   macro avg       0.25      0.50      0.33     50000\n",
      "weighted avg       0.25      0.50      0.34     50000\n",
      "\n"
     ]
    },
    {
     "name": "stderr",
     "output_type": "stream",
     "text": [
      "C:\\Users\\jvalh\\anaconda3\\lib\\site-packages\\sklearn\\metrics\\_classification.py:1272: UndefinedMetricWarning: Precision and F-score are ill-defined and being set to 0.0 in labels with no predicted samples. Use `zero_division` parameter to control this behavior.\n",
      "  _warn_prf(average, modifier, msg_start, len(result))\n"
     ]
    }
   ],
   "source": [
    "print('\\n----- Sequential (TensorFlow) -----')\n",
    "print('\\nPontuação ROC AUC:', sequential_roc)\n",
    "print('\\nMatriz de confusão: \\n', \n",
    "      confusion_matrix(y_valid, sequential_predictions.round()))\n",
    "print('\\nRelatório de classificação: \\n', \n",
    "      classification_report(y_valid, sequential_predictions.round()))"
   ]
  }
 ],
 "metadata": {
  "colab": {
   "collapsed_sections": [
    "3rm30fJS_Tfj",
    "Dy7AeB53_ZYw",
    "WapMTUMPccoN",
    "JId6vSlIchu_",
    "HEs_1GvQY_Tb",
    "HJPqC4mTaKah",
    "7Bwjr62O92MV",
    "SBED48vL-0mo"
   ],
   "name": "Trabalho_de_Graduação_Model_Predictions.ipynb",
   "provenance": []
  },
  "kernelspec": {
   "display_name": "Python 3",
   "language": "python",
   "name": "python3"
  },
  "language_info": {
   "codemirror_mode": {
    "name": "ipython",
    "version": 3
   },
   "file_extension": ".py",
   "mimetype": "text/x-python",
   "name": "python",
   "nbconvert_exporter": "python",
   "pygments_lexer": "ipython3",
   "version": "3.7.6"
  }
 },
 "nbformat": 4,
 "nbformat_minor": 1
}
