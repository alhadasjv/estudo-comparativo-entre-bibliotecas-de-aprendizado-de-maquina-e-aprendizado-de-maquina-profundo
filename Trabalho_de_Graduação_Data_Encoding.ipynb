{
  "nbformat": 4,
  "nbformat_minor": 0,
  "metadata": {
    "colab": {
      "name": "Trabalho_de_Graduação_Data_Encoding.ipynb",
      "provenance": [],
      "collapsed_sections": [
        "uKgDT5tF-L11"
      ]
    },
    "hide_input": false,
    "kernelspec": {
      "display_name": "Python 3",
      "language": "python",
      "name": "python3"
    },
    "language_info": {
      "codemirror_mode": {
        "name": "ipython",
        "version": 3
      },
      "file_extension": ".py",
      "mimetype": "text/x-python",
      "name": "python",
      "nbconvert_exporter": "python",
      "pygments_lexer": "ipython3",
      "version": "3.7.6"
    },
    "toc": {
      "base_numbering": 1,
      "nav_menu": {},
      "number_sections": true,
      "sideBar": true,
      "skip_h1_title": false,
      "title_cell": "Table of Contents",
      "title_sidebar": "Contents",
      "toc_cell": false,
      "toc_position": {},
      "toc_section_display": true,
      "toc_window_display": false
    },
    "varInspector": {
      "cols": {
        "lenName": 16,
        "lenType": 16,
        "lenVar": 40
      },
      "kernels_config": {
        "python": {
          "delete_cmd_postfix": "",
          "delete_cmd_prefix": "del ",
          "library": "var_list.py",
          "varRefreshCmd": "print(var_dic_list())"
        },
        "r": {
          "delete_cmd_postfix": ") ",
          "delete_cmd_prefix": "rm(",
          "library": "var_list.r",
          "varRefreshCmd": "cat(var_dic_list()) "
        }
      },
      "types_to_exclude": [
        "module",
        "function",
        "builtin_function_or_method",
        "instance",
        "_Feature"
      ],
      "window_display": false
    }
  },
  "cells": [
    {
      "cell_type": "markdown",
      "metadata": {
        "colab_type": "text",
        "id": "FpjOm5fv-L1z"
      },
      "source": [
        "# **Descrição**"
      ]
    },
    {
      "cell_type": "markdown",
      "metadata": {
        "colab_type": "text",
        "id": "0zsrpPzNBbq5"
      },
      "source": [
        "*   **Repositório contendo a abordagem completa:** https://github.com/imor-de/microsoft_malware_prediction_kaggle_2nd\n",
        "\n",
        "*   **Abordagem de codificação de dados utilizada:** https://github.com/imor-de/microsoft_malware_prediction_kaggle_2nd/blob/master/code/3_Data_Encoding_M1.ipynb"
      ]
    },
    {
      "cell_type": "markdown",
      "metadata": {
        "colab_type": "text",
        "id": "vdewPz_O-L10"
      },
      "source": [
        "***\n",
        "Durante esta etapa, MICHAELS; IMORDE argumenta que nem todos os métodos de aprendizado de máquina possuem a capacidade de lidar com qualquer tipo de característica (explicitamente características categóricas). E para isso, essas são codificadas para assegurar processamento adequado.\n",
        "\n",
        "Para as características selecionadas, são utilizadas as abordagens de codificação por rótulos (Label Encoding) e codificação por frequências (Frequency Encoding). A codificação por rótulos transforma valores em números entre 0 e n-1 (sendo n o número de rótulos diferentes). Na codificação por frequência, os valores são codificados com base em suas frequências, sendo transformados em números entre 0 e m (onde m é o número de valores com frequência >= 2).\n",
        "***"
      ]
    },
    {
      "cell_type": "markdown",
      "metadata": {
        "colab_type": "text",
        "id": "uKgDT5tF-L11"
      },
      "source": [
        "# **Bibliotecas/Funções**"
      ]
    },
    {
      "cell_type": "code",
      "metadata": {
        "ExecuteTime": {
          "end_time": "2019-03-20T05:51:45.977723Z",
          "start_time": "2019-03-20T05:51:44.121707Z"
        },
        "colab_type": "code",
        "id": "PR1jkTcn-L11",
        "colab": {}
      },
      "source": [
        "import pandas as pd\n",
        "import numpy as np\n",
        "import dask.dataframe as dd\n",
        "from sklearn import preprocessing\n",
        "from tqdm import tqdm\n",
        "import gc\n",
        "import sys\n",
        "import warnings\n",
        "if not sys.warnoptions:\n",
        "    warnings.simplefilter(\"ignore\")"
      ],
      "execution_count": null,
      "outputs": []
    },
    {
      "cell_type": "code",
      "metadata": {
        "ExecuteTime": {
          "end_time": "2019-03-20T05:51:45.988683Z",
          "start_time": "2019-03-20T05:51:45.979708Z"
        },
        "colab_type": "code",
        "id": "NHEbrtF7-L15",
        "colab": {}
      },
      "source": [
        "# Especificação dos tipos de dados para menor uso de memória\n",
        "dtypes = {\n",
        "        'MachineIdentifier':                                    'category',\n",
        "        'ProductName':                                          'category',\n",
        "        'EngineVersion':                                        'category',\n",
        "        'AppVersion':                                           'category',\n",
        "        'AvSigVersion':                                         'category',\n",
        "        'IsBeta':                                               'int8',\n",
        "        'RtpStateBitfield':                                     'float16',\n",
        "        'IsSxsPassiveMode':                                     'int8',\n",
        "        'DefaultBrowsersIdentifier':                            'float16',\n",
        "        'AVProductStatesIdentifier':                            'float32',\n",
        "        'AVProductsInstalled':                                  'float16',\n",
        "        'AVProductsEnabled':                                    'float16',\n",
        "        'HasTpm':                                               'int8',\n",
        "        'CountryIdentifier':                                    'int16',\n",
        "        'CityIdentifier':                                       'float32',\n",
        "        'OrganizationIdentifier':                               'float16',\n",
        "        'GeoNameIdentifier':                                    'float16',\n",
        "        'LocaleEnglishNameIdentifier':                          'int8',\n",
        "        'Platform':                                             'category',\n",
        "        'Processor':                                            'category',\n",
        "        'OsVer':                                                'category',\n",
        "        'OsBuild':                                              'int16',\n",
        "        'OsSuite':                                              'int16',\n",
        "        'OsPlatformSubRelease':                                 'category',\n",
        "        'OsBuildLab':                                           'category',\n",
        "        'SkuEdition':                                           'category',\n",
        "        'IsProtected':                                          'float16',\n",
        "        'AutoSampleOptIn':                                      'int8',\n",
        "        'PuaMode':                                              'category',\n",
        "        'SMode':                                                'float16',\n",
        "        'IeVerIdentifier':                                      'float16',\n",
        "        'SmartScreen':                                          'category',\n",
        "        'Firewall':                                             'float16',\n",
        "        'UacLuaenable':                                         'float32',\n",
        "        'Census_MDC2FormFactor':                                'category',\n",
        "        'Census_DeviceFamily':                                  'category',\n",
        "        'Census_OEMNameIdentifier':                             'float16',\n",
        "        'Census_OEMModelIdentifier':                            'float32',\n",
        "        'Census_ProcessorCoreCount':                            'float16',\n",
        "        'Census_ProcessorManufacturerIdentifier':               'float16',\n",
        "        'Census_ProcessorModelIdentifier':                      'float16',\n",
        "        'Census_ProcessorClass':                                'category',\n",
        "        'Census_PrimaryDiskTotalCapacity':                      'float32',\n",
        "        'Census_PrimaryDiskTypeName':                           'category',\n",
        "        'Census_SystemVolumeTotalCapacity':                     'float32',\n",
        "        'Census_HasOpticalDiskDrive':                           'int8',\n",
        "        'Census_TotalPhysicalRAM':                              'float32',\n",
        "        'Census_ChassisTypeName':                               'category',\n",
        "        'Census_InternalPrimaryDiagonalDisplaySizeInInches':    'float16',\n",
        "        'Census_InternalPrimaryDisplayResolutionHorizontal':    'float16',\n",
        "        'Census_InternalPrimaryDisplayResolutionVertical':      'float16',\n",
        "        'Census_PowerPlatformRoleName':                         'category',\n",
        "        'Census_InternalBatteryType':                           'category',\n",
        "        'Census_InternalBatteryNumberOfCharges':                'float32',\n",
        "        'Census_OSVersion':                                     'category',\n",
        "        'Census_OSArchitecture':                                'category',\n",
        "        'Census_OSBranch':                                      'category',\n",
        "        'Census_OSBuildNumber':                                 'int16',\n",
        "        'Census_OSBuildRevision':                               'int32',\n",
        "        'Census_OSEdition':                                     'category',\n",
        "        'Census_OSSkuName':                                     'category',\n",
        "        'Census_OSInstallTypeName':                             'category',\n",
        "        'Census_OSInstallLanguageIdentifier':                   'float16',\n",
        "        'Census_OSUILocaleIdentifier':                          'int16',\n",
        "        'Census_OSWUAutoUpdateOptionsName':                     'category',\n",
        "        'Census_IsPortableOperatingSystem':                     'int8',\n",
        "        'Census_GenuineStateName':                              'category',\n",
        "        'Census_ActivationChannel':                             'category',\n",
        "        'Census_IsFlightingInternal':                           'float16',\n",
        "        'Census_IsFlightsDisabled':                             'float16',\n",
        "        'Census_FlightRing':                                    'category',\n",
        "        'Census_ThresholdOptIn':                                'float16',\n",
        "        'Census_FirmwareManufacturerIdentifier':                'float16',\n",
        "        'Census_FirmwareVersionIdentifier':                     'float32',\n",
        "        'Census_IsSecureBootEnabled':                           'int8',\n",
        "        'Census_IsWIMBootEnabled':                              'float16',\n",
        "        'Census_IsVirtualDevice':                               'float16',\n",
        "        'Census_IsTouchEnabled':                                'int8',\n",
        "        'Census_IsPenCapable':                                  'int8',\n",
        "        'Census_IsAlwaysOnAlwaysConnectedCapable':              'float16',\n",
        "        'Wdft_IsGamer':                                         'float16',\n",
        "        'Wdft_RegionIdentifier':                                'float16',\n",
        "        'HasDetections':                                        'int8'\n",
        "        }"
      ],
      "execution_count": null,
      "outputs": []
    },
    {
      "cell_type": "code",
      "metadata": {
        "ExecuteTime": {
          "end_time": "2019-03-20T05:51:45.998669Z",
          "start_time": "2019-03-20T05:51:45.989681Z"
        },
        "colab_type": "code",
        "id": "dyEszMDY-L18",
        "colab": {}
      },
      "source": [
        "def convert_types(df):\n",
        "    # Conversão dos tipos de dados para reduzir memória utilizada\n",
        "    for c in df:\n",
        "        col_type = str(df[c].dtypes)\n",
        "        numerics = ['int16', 'int32', 'int64', 'float16', 'float32', 'float64']\n",
        "        \n",
        "        # Conversão de \"object\" para \"category\"\n",
        "        if col_type == 'object':\n",
        "            df[c] = df[c].astype('category')\n",
        "        \n",
        "        # Conversão de numéricos\n",
        "        elif col_type in numerics:\n",
        "            c_min = df[c].min()\n",
        "            c_max = df[c].max()\n",
        "            if col_type[:3] == 'int':\n",
        "                if c_min > np.iinfo(np.int8).min and c_max < np.iinfo(np.int8).max:\n",
        "                    df[c] = df[c].astype(np.int8)\n",
        "                elif c_min > np.iinfo(np.int16).min and c_max < np.iinfo(np.int16).max:\n",
        "                    df[c] = df[c].astype(np.int16)\n",
        "                elif c_min > np.iinfo(np.int32).min and c_max < np.iinfo(np.int32).max:\n",
        "                    df[c] = df[c].astype(np.int32)\n",
        "                elif c_min > np.iinfo(np.int64).min and c_max < np.iinfo(np.int64).max:\n",
        "                    df[c] = df[c].astype(np.int64)  \n",
        "            else:\n",
        "                if c_min > np.finfo(np.float16).min and c_max < np.finfo(np.float16).max:\n",
        "                    df[c] = df[c].astype(np.float16)\n",
        "                elif c_min > np.finfo(np.float32).min and c_max < np.finfo(np.float32).max:\n",
        "                    df[c] = df[c].astype(np.float32)\n",
        "                else:\n",
        "                    df[c] = df[c].astype(np.float64)  \n",
        "        \n",
        "    return df"
      ],
      "execution_count": null,
      "outputs": []
    },
    {
      "cell_type": "markdown",
      "metadata": {
        "colab_type": "text",
        "id": "IFLKErOs-L1_"
      },
      "source": [
        "# **Importação de Dados**"
      ]
    },
    {
      "cell_type": "code",
      "metadata": {
        "ExecuteTime": {
          "end_time": "2019-03-20T05:51:46.005675Z",
          "start_time": "2019-03-20T05:51:46.001650Z"
        },
        "colab_type": "code",
        "id": "sPFSy6rO-L2A",
        "colab": {}
      },
      "source": [
        "# Definição da coluna alvo\n",
        "target = 'HasDetections'\n",
        "\n",
        "# Definição da coluna identificadora\n",
        "data_id = 'MachineIdentifier'"
      ],
      "execution_count": null,
      "outputs": []
    },
    {
      "cell_type": "code",
      "metadata": {
        "ExecuteTime": {
          "end_time": "2019-03-20T05:53:10.509801Z",
          "start_time": "2019-03-20T05:51:46.013620Z"
        },
        "colab_type": "code",
        "id": "4lGxKRrq-L2D",
        "colab": {}
      },
      "source": [
        "# Carregamento dos dados utilizando a biblioteca Dask para melhor performance\n",
        "file = 'MMP_Cleaned.csv'\n",
        "ddf = dd.read_csv(file, dtype = dtypes)\n",
        "df = ddf.compute()"
      ],
      "execution_count": null,
      "outputs": []
    },
    {
      "cell_type": "code",
      "metadata": {
        "ExecuteTime": {
          "end_time": "2019-03-20T05:53:10.517704Z",
          "start_time": "2019-03-20T05:53:10.509801Z"
        },
        "colab_type": "code",
        "id": "6vPr7nnT-L2G",
        "colab": {},
        "outputId": "5e4b6b26-ea80-4d12-baca-9b56296ce6d8"
      },
      "source": [
        "# Forma do conjunto de dados (linhas, colunas)\n",
        "df.shape"
      ],
      "execution_count": null,
      "outputs": [
        {
          "output_type": "execute_result",
          "data": {
            "text/plain": [
              "(8921483, 71)"
            ]
          },
          "metadata": {
            "tags": []
          },
          "execution_count": 6
        }
      ]
    },
    {
      "cell_type": "code",
      "metadata": {
        "ExecuteTime": {
          "end_time": "2019-03-20T05:53:17.100764Z",
          "start_time": "2019-03-20T05:53:10.519698Z"
        },
        "colab_type": "code",
        "id": "wC8VB7Li-L2K",
        "colab": {}
      },
      "source": [
        "# Conversão dos tipos de dados para o conjunto remodelado\n",
        "df = convert_types(df)"
      ],
      "execution_count": null,
      "outputs": []
    },
    {
      "cell_type": "markdown",
      "metadata": {
        "colab_type": "text",
        "id": "Le6fV8-s-L2g"
      },
      "source": [
        "# **Codificação de Dados**"
      ]
    },
    {
      "cell_type": "code",
      "metadata": {
        "ExecuteTime": {
          "end_time": "2019-03-20T05:56:06.678347Z",
          "start_time": "2019-03-20T05:56:06.674358Z"
        },
        "colab_type": "code",
        "id": "2owmXaHR-L2g",
        "colab": {}
      },
      "source": [
        "# Build up a list with all the features, which should be encoded via frequency\n",
        "list_frequency_encoding = ['AppVersion',\n",
        " 'AvSigVersion',\n",
        " 'Census_OSVersion',\n",
        " 'EngineVersion',\n",
        " 'OsBuildLab']"
      ],
      "execution_count": null,
      "outputs": []
    },
    {
      "cell_type": "code",
      "metadata": {
        "ExecuteTime": {
          "end_time": "2019-03-20T05:56:06.689317Z",
          "start_time": "2019-03-20T05:56:06.680342Z"
        },
        "colab_type": "code",
        "id": "c-hORNY1-L2j",
        "colab": {}
      },
      "source": [
        "# Construção da lista com todas as características que devem ser codificadas por rótulo\n",
        "correct_feature_by_hand = ['AppVersion',\n",
        " 'AvSigVersion',\n",
        " 'Census_ActivationChannel',\n",
        " 'Census_ChassisTypeName',\n",
        " 'Census_DeviceFamily',\n",
        " 'Census_FlightRing',\n",
        " 'Census_GenuineStateName',\n",
        " 'Census_MDC2FormFactor',\n",
        " 'Census_OSArchitecture',\n",
        " 'Census_OSBranch',\n",
        " 'Census_OSEdition',\n",
        " 'Census_OSInstallTypeName',\n",
        " 'Census_OSSkuName',\n",
        " 'Census_OSVersion',\n",
        " 'Census_OSWUAutoUpdateOptionsName',\n",
        " 'Census_PowerPlatformRoleName',\n",
        " 'Census_PrimaryDiskTypeName',\n",
        " 'EngineVersion',\n",
        " 'MachineIdentifier',\n",
        " 'OsBuildLab',\n",
        " 'OsPlatformSubRelease',\n",
        " 'OsVer',\n",
        " 'Platform',\n",
        " 'Processor',\n",
        " 'SkuEdition',\n",
        " 'SmartScreen',\n",
        " 'Census_MDC2FormFactor_new']\n",
        "\n",
        "list_label_encoding = list(set(correct_feature_by_hand)-set(list_frequency_encoding))"
      ],
      "execution_count": null,
      "outputs": []
    },
    {
      "cell_type": "code",
      "metadata": {
        "ExecuteTime": {
          "end_time": "2019-03-20T05:56:06.694304Z",
          "start_time": "2019-03-20T05:56:06.690315Z"
        },
        "colab_type": "code",
        "id": "MDhsm22X-L2l",
        "colab": {}
      },
      "source": [
        "# Remoção da coluna alvo da lista \"list_label_encoding\"\n",
        "list_label_encoding.remove(data_id)"
      ],
      "execution_count": null,
      "outputs": []
    },
    {
      "cell_type": "code",
      "metadata": {
        "ExecuteTime": {
          "end_time": "2019-03-20T05:56:06.717243Z",
          "start_time": "2019-03-20T05:56:06.710263Z"
        },
        "colab_type": "code",
        "id": "_VPsemlY-L2o",
        "colab": {}
      },
      "source": [
        "# Create a function for frequency encoding\n",
        "def frequency_encoding(feature):\n",
        "    # Count the number of values of each feature and reset the indices\n",
        "    t = df[feature].value_counts().reset_index()\n",
        "    # Building up a new index (old index is set by default to 'level_0')\n",
        "    t = t.reset_index()\n",
        "    # Set the old index 'level_0' for all values, which only occur once, to NaN\n",
        "    t.loc[t[feature] == 1, 'level_0'] = np.nan\n",
        "    # Reset the original index (= the value name) as index\n",
        "    t.set_index('index', inplace=True)\n",
        "    # return the number of values , which occur two or more times, +1\n",
        "    max_label = t['level_0'].max() + 1\n",
        "    # fill all nan-values to max_label\n",
        "    t.fillna(max_label, inplace=True)\n",
        "    return t.to_dict()['level_0']"
      ],
      "execution_count": null,
      "outputs": []
    },
    {
      "cell_type": "code",
      "metadata": {
        "ExecuteTime": {
          "end_time": "2019-03-20T05:56:09.201760Z",
          "start_time": "2019-03-20T05:56:06.724224Z"
        },
        "colab_type": "code",
        "id": "U-v26ujF-L2q",
        "colab": {},
        "outputId": "7614009c-6abb-4b65-bcb5-9fd2afd3bc9e"
      },
      "source": [
        "# Codificação de todas as características contidas na lista \"list_frequency_encoding\"\n",
        "for feature in tqdm(list_frequency_encoding):\n",
        "    freq_enc_dict = frequency_encoding(feature)\n",
        "    df[feature] = df[feature].map(lambda x: freq_enc_dict.get(x, np.nan))\n",
        "    df[feature] = df[feature].astype('int64')    "
      ],
      "execution_count": null,
      "outputs": [
        {
          "output_type": "stream",
          "text": [
            "100%|████████████████████████████████████████████████████████████████████████████████████| 5/5 [00:01<00:00,  2.70it/s]\n"
          ],
          "name": "stderr"
        }
      ]
    },
    {
      "cell_type": "code",
      "metadata": {
        "ExecuteTime": {
          "end_time": "2019-03-20T05:56:56.629409Z",
          "start_time": "2019-03-20T05:56:09.207737Z"
        },
        "colab_type": "code",
        "id": "EmnmRzKG-L2t",
        "colab": {},
        "outputId": "37081551-1421-44c1-eb48-e17d8ea1f7dc"
      },
      "source": [
        "# Codificação de todas as características contidas na lista \"list_label_encoding\"\n",
        "for feature in tqdm(list_label_encoding):\n",
        "    le = preprocessing.LabelEncoder()\n",
        "    df[feature] = le.fit_transform(df[feature])\n",
        "    df[feature] = df[feature].astype('int64') "
      ],
      "execution_count": null,
      "outputs": [
        {
          "output_type": "stream",
          "text": [
            "100%|██████████████████████████████████████████████████████████████████████████████████| 21/21 [00:37<00:00,  1.79s/it]\n"
          ],
          "name": "stderr"
        }
      ]
    },
    {
      "cell_type": "markdown",
      "metadata": {
        "colab_type": "text",
        "id": "eiI4Msux-L21"
      },
      "source": [
        "# **Exportação de Dados**"
      ]
    },
    {
      "cell_type": "code",
      "metadata": {
        "ExecuteTime": {
          "end_time": "2019-03-20T06:11:48.769475Z",
          "start_time": "2019-03-20T05:57:20.811938Z"
        },
        "colab_type": "code",
        "id": "IZAbeyLk-L22",
        "colab": {}
      },
      "source": [
        "# Exportação do conjunto de dados para o arquivo \"train_cleaned_encoded.csv\"\n",
        "df.to_csv('MMP_Cleaned_Encoded.csv', index = False)"
      ],
      "execution_count": null,
      "outputs": []
    }
  ]
}