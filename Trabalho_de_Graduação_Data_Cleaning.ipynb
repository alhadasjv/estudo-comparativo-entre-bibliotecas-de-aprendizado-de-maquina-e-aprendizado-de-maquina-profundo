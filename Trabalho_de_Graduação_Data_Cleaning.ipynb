{
  "nbformat": 4,
  "nbformat_minor": 0,
  "metadata": {
    "colab": {
      "name": "Trabalho_de_Graduação_Data_Cleaning.ipynb",
      "provenance": [],
      "collapsed_sections": [
        "pApNqOoPzIXE",
        "lOaTC3CIzIXH",
        "d8oQBXXDzIXS",
        "aPLeSmg8zIX5",
        "03GwhInPzIX9"
      ]
    },
    "hide_input": false,
    "kernelspec": {
      "display_name": "Python 3",
      "language": "python",
      "name": "python3"
    },
    "language_info": {
      "codemirror_mode": {
        "name": "ipython",
        "version": 3
      },
      "file_extension": ".py",
      "mimetype": "text/x-python",
      "name": "python",
      "nbconvert_exporter": "python",
      "pygments_lexer": "ipython3",
      "version": "3.7.6"
    },
    "toc": {
      "base_numbering": 1,
      "nav_menu": {},
      "number_sections": true,
      "sideBar": true,
      "skip_h1_title": false,
      "title_cell": "Table of Contents",
      "title_sidebar": "Contents",
      "toc_cell": false,
      "toc_position": {},
      "toc_section_display": true,
      "toc_window_display": false
    },
    "varInspector": {
      "cols": {
        "lenName": 16,
        "lenType": 16,
        "lenVar": 40
      },
      "kernels_config": {
        "python": {
          "delete_cmd_postfix": "",
          "delete_cmd_prefix": "del ",
          "library": "var_list.py",
          "varRefreshCmd": "print(var_dic_list())"
        },
        "r": {
          "delete_cmd_postfix": ") ",
          "delete_cmd_prefix": "rm(",
          "library": "var_list.r",
          "varRefreshCmd": "cat(var_dic_list()) "
        }
      },
      "types_to_exclude": [
        "module",
        "function",
        "builtin_function_or_method",
        "instance",
        "_Feature"
      ],
      "window_display": false
    }
  },
  "cells": [
    {
      "cell_type": "markdown",
      "metadata": {
        "colab_type": "text",
        "id": "pApNqOoPzIXE"
      },
      "source": [
        "# **Descrição**"
      ]
    },
    {
      "cell_type": "markdown",
      "metadata": {
        "colab_type": "text",
        "id": "8f3UxSV89vV_"
      },
      "source": [
        "*   **Repositório contendo a abordagem completa:** https://github.com/imor-de/microsoft_malware_prediction_kaggle_2nd\n",
        "\n",
        "\n",
        "*   **Abordagem de limpeza de dados utilizada:** https://github.com/imor-de/microsoft_malware_prediction_kaggle_2nd/blob/master/code/1_Data_Cleaning_train_set.ipynb"
      ]
    },
    {
      "cell_type": "markdown",
      "metadata": {
        "colab_type": "text",
        "id": "6AOLFvpUzIXF"
      },
      "source": [
        "***\n",
        "Nessa abordagem, MICHAELS; IMORDE realizam o processo de limpeza dos dados pré-processando o conjunto bruto e transformando-o para utilização de suas características. Com isso características com muitos valores NaN (Not a Number) são removidas, características com dimensões altamente desbalanceadas também são removidas e as características restantes são divididas em binárias, numéricas e categóricas.\n",
        "\n",
        "Antes da limpeza do conjunto de dados, MICHAELS; IMORDE estudam os recursos e as características subjacentes de maneira intuitiva com processo de análise exploratória de dados. Investigando a distribuição da característica alvo; frequência na ocorrência de características binárias, numéricas e categóricas; dimensões de cada característica; frequência de dimensões presentes no conjunto de dados e frequência de valores NaN.\n",
        "\n",
        "Com isso, características numéricas e binárias foram analisadas com base em valor máximo, valor mínimo, valor médio, desvio padrão de valores ocorridos e frequência de valores \"0\". Todas as informações interativas obtidas foram armazenadas (como descrições de características, comentários, tipos de características e informações sobre a limpeza dos dados) em um arquivo .xlsx separado durante o processo de análise exploratória de dados.\n",
        "***"
      ]
    },
    {
      "cell_type": "markdown",
      "metadata": {
        "ExecuteTime": {
          "end_time": "2019-03-19T11:59:28.524953Z",
          "start_time": "2019-03-19T11:59:28.521992Z"
        },
        "colab_type": "text",
        "id": "lOaTC3CIzIXH"
      },
      "source": [
        "# **Bibliotecas/Funções**"
      ]
    },
    {
      "cell_type": "code",
      "metadata": {
        "ExecuteTime": {
          "end_time": "2019-03-19T13:17:02.998990Z",
          "start_time": "2019-03-19T13:17:01.252370Z"
        },
        "colab_type": "code",
        "id": "5FBapfh3zIXI",
        "colab": {}
      },
      "source": [
        "import pandas as pd\n",
        "import numpy as np\n",
        "import dask.dataframe as dd\n",
        "from sklearn import preprocessing\n",
        "import warnings, sys\n",
        "if not sys.warnoptions:\n",
        "    warnings.simplefilter(\"ignore\")"
      ],
      "execution_count": null,
      "outputs": []
    },
    {
      "cell_type": "code",
      "metadata": {
        "ExecuteTime": {
          "end_time": "2019-03-19T13:17:03.008915Z",
          "start_time": "2019-03-19T13:17:02.999994Z"
        },
        "colab_type": "code",
        "id": "yNN6wA0yzIXM",
        "colab": {}
      },
      "source": [
        "# Especificação dos tipos de dados para menor uso de memória\n",
        "dtypes = {\n",
        "        'MachineIdentifier':                                    'category',\n",
        "        'ProductName':                                          'category',\n",
        "        'EngineVersion':                                        'category',\n",
        "        'AppVersion':                                           'category',\n",
        "        'AvSigVersion':                                         'category',\n",
        "        'IsBeta':                                               'int8',\n",
        "        'RtpStateBitfield':                                     'float16',\n",
        "        'IsSxsPassiveMode':                                     'int8',\n",
        "        'DefaultBrowsersIdentifier':                            'float16',\n",
        "        'AVProductStatesIdentifier':                            'float32',\n",
        "        'AVProductsInstalled':                                  'float16',\n",
        "        'AVProductsEnabled':                                    'float16',\n",
        "        'HasTpm':                                               'int8',\n",
        "        'CountryIdentifier':                                    'int16',\n",
        "        'CityIdentifier':                                       'float32',\n",
        "        'OrganizationIdentifier':                               'float16',\n",
        "        'GeoNameIdentifier':                                    'float16',\n",
        "        'LocaleEnglishNameIdentifier':                          'int8',\n",
        "        'Platform':                                             'category',\n",
        "        'Processor':                                            'category',\n",
        "        'OsVer':                                                'category',\n",
        "        'OsBuild':                                              'int16',\n",
        "        'OsSuite':                                              'int16',\n",
        "        'OsPlatformSubRelease':                                 'category',\n",
        "        'OsBuildLab':                                           'category',\n",
        "        'SkuEdition':                                           'category',\n",
        "        'IsProtected':                                          'float16',\n",
        "        'AutoSampleOptIn':                                      'int8',\n",
        "        'PuaMode':                                              'category',\n",
        "        'SMode':                                                'float16',\n",
        "        'IeVerIdentifier':                                      'float16',\n",
        "        'SmartScreen':                                          'category',\n",
        "        'Firewall':                                             'float16',\n",
        "        'UacLuaenable':                                         'float32',\n",
        "        'Census_MDC2FormFactor':                                'category',\n",
        "        'Census_DeviceFamily':                                  'category',\n",
        "        'Census_OEMNameIdentifier':                             'float16',\n",
        "        'Census_OEMModelIdentifier':                            'float32',\n",
        "        'Census_ProcessorCoreCount':                            'float16',\n",
        "        'Census_ProcessorManufacturerIdentifier':               'float16',\n",
        "        'Census_ProcessorModelIdentifier':                      'float16',\n",
        "        'Census_ProcessorClass':                                'category',\n",
        "        'Census_PrimaryDiskTotalCapacity':                      'float32',\n",
        "        'Census_PrimaryDiskTypeName':                           'category',\n",
        "        'Census_SystemVolumeTotalCapacity':                     'float32',\n",
        "        'Census_HasOpticalDiskDrive':                           'int8',\n",
        "        'Census_TotalPhysicalRAM':                              'float32',\n",
        "        'Census_ChassisTypeName':                               'category',\n",
        "        'Census_InternalPrimaryDiagonalDisplaySizeInInches':    'float16',\n",
        "        'Census_InternalPrimaryDisplayResolutionHorizontal':    'float16',\n",
        "        'Census_InternalPrimaryDisplayResolutionVertical':      'float16',\n",
        "        'Census_PowerPlatformRoleName':                         'category',\n",
        "        'Census_InternalBatteryType':                           'category',\n",
        "        'Census_InternalBatteryNumberOfCharges':                'float32',\n",
        "        'Census_OSVersion':                                     'category',\n",
        "        'Census_OSArchitecture':                                'category',\n",
        "        'Census_OSBranch':                                      'category',\n",
        "        'Census_OSBuildNumber':                                 'int16',\n",
        "        'Census_OSBuildRevision':                               'int32',\n",
        "        'Census_OSEdition':                                     'category',\n",
        "        'Census_OSSkuName':                                     'category',\n",
        "        'Census_OSInstallTypeName':                             'category',\n",
        "        'Census_OSInstallLanguageIdentifier':                   'float16',\n",
        "        'Census_OSUILocaleIdentifier':                          'int16',\n",
        "        'Census_OSWUAutoUpdateOptionsName':                     'category',\n",
        "        'Census_IsPortableOperatingSystem':                     'int8',\n",
        "        'Census_GenuineStateName':                              'category',\n",
        "        'Census_ActivationChannel':                             'category',\n",
        "        'Census_IsFlightingInternal':                           'float16',\n",
        "        'Census_IsFlightsDisabled':                             'float16',\n",
        "        'Census_FlightRing':                                    'category',\n",
        "        'Census_ThresholdOptIn':                                'float16',\n",
        "        'Census_FirmwareManufacturerIdentifier':                'float16',\n",
        "        'Census_FirmwareVersionIdentifier':                     'float32',\n",
        "        'Census_IsSecureBootEnabled':                           'int8',\n",
        "        'Census_IsWIMBootEnabled':                              'float16',\n",
        "        'Census_IsVirtualDevice':                               'float16',\n",
        "        'Census_IsTouchEnabled':                                'int8',\n",
        "        'Census_IsPenCapable':                                  'int8',\n",
        "        'Census_IsAlwaysOnAlwaysConnectedCapable':              'float16',\n",
        "        'Wdft_IsGamer':                                         'float16',\n",
        "        'Wdft_RegionIdentifier':                                'float16',\n",
        "        'HasDetections':                                        'int8'\n",
        "        }"
      ],
      "execution_count": null,
      "outputs": []
    },
    {
      "cell_type": "code",
      "metadata": {
        "ExecuteTime": {
          "end_time": "2019-03-19T13:17:03.020887Z",
          "start_time": "2019-03-19T13:17:03.009911Z"
        },
        "colab_type": "code",
        "id": "ZfsxLXijzIXP",
        "colab": {}
      },
      "source": [
        "def convert_types(df):\n",
        "    # Conversão dos tipos de dados para reduzir memória utilizada\n",
        "    for c in df:\n",
        "        col_type = str(df[c].dtypes)\n",
        "        numerics = ['int16', 'int32', 'int64', 'float16', 'float32', 'float64']\n",
        "        \n",
        "        # Conversão de \"object\" para \"category\"\n",
        "        if col_type == 'object':\n",
        "            df[c] = df[c].astype('category')\n",
        "        \n",
        "        # Conversão de numéricos\n",
        "        elif col_type in numerics:\n",
        "            c_min = df[c].min()\n",
        "            c_max = df[c].max()\n",
        "            if col_type[:3] == 'int':\n",
        "                if c_min > np.iinfo(np.int8).min and c_max < np.iinfo(np.int8).max:\n",
        "                    df[c] = df[c].astype(np.int8)\n",
        "                elif c_min > np.iinfo(np.int16).min and c_max < np.iinfo(np.int16).max:\n",
        "                    df[c] = df[c].astype(np.int16)\n",
        "                elif c_min > np.iinfo(np.int32).min and c_max < np.iinfo(np.int32).max:\n",
        "                    df[c] = df[c].astype(np.int32)\n",
        "                elif c_min > np.iinfo(np.int64).min and c_max < np.iinfo(np.int64).max:\n",
        "                    df[c] = df[c].astype(np.int64)  \n",
        "            else:\n",
        "                if c_min > np.finfo(np.float16).min and c_max < np.finfo(np.float16).max:\n",
        "                    df[c] = df[c].astype(np.float16)\n",
        "                elif c_min > np.finfo(np.float32).min and c_max < np.finfo(np.float32).max:\n",
        "                    df[c] = df[c].astype(np.float32)\n",
        "                else:\n",
        "                    df[c] = df[c].astype(np.float64)  \n",
        "        \n",
        "    return df"
      ],
      "execution_count": null,
      "outputs": []
    },
    {
      "cell_type": "markdown",
      "metadata": {
        "ExecuteTime": {
          "end_time": "2019-03-19T12:02:26.034494Z",
          "start_time": "2019-03-19T12:02:26.031471Z"
        },
        "colab_type": "text",
        "id": "d8oQBXXDzIXS"
      },
      "source": [
        "# **Importação de Dados**"
      ]
    },
    {
      "cell_type": "markdown",
      "metadata": {
        "colab_type": "text",
        "id": "IDz2plmUzIXT"
      },
      "source": [
        "Para manter somente características importantes no conjunto de dados, os autores realizaram a exclusão de características com muitos valores NaN e também a exclusão de características com dimensões altamente desbalanceadas (como a característica “AutoSampleOptIn” onde o valor “0” é quase 100% presente)."
      ]
    },
    {
      "cell_type": "code",
      "metadata": {
        "ExecuteTime": {
          "end_time": "2019-03-19T13:17:03.122613Z",
          "start_time": "2019-03-19T13:17:03.023874Z"
        },
        "colab_type": "code",
        "id": "_CgBTYiNzIXT",
        "colab": {}
      },
      "source": [
        "# Carregamento de informações sobre o conjunto de dados de um arquivo \".xlsx\"\n",
        "excel_table = pd.read_excel('MMP_Data_Description.xlsx')\n",
        "excel_table = excel_table[excel_table['Relevant']==1]\n",
        "relevant_features = [el.replace('\\xa0','') for el in excel_table['Feature']]"
      ],
      "execution_count": null,
      "outputs": []
    },
    {
      "cell_type": "code",
      "metadata": {
        "ExecuteTime": {
          "end_time": "2019-03-19T13:17:03.134614Z",
          "start_time": "2019-03-19T13:17:03.130589Z"
        },
        "colab_type": "code",
        "id": "ziHsChHCzIXX",
        "colab": {}
      },
      "source": [
        "# Definição da coluna alvo\n",
        "target = 'HasDetections'\n",
        "\n",
        "# Definição da coluna identificadora\n",
        "data_id = 'MachineIdentifier'"
      ],
      "execution_count": null,
      "outputs": []
    },
    {
      "cell_type": "code",
      "metadata": {
        "ExecuteTime": {
          "end_time": "2019-03-19T13:17:03.142557Z",
          "start_time": "2019-03-19T13:17:03.136572Z"
        },
        "colab_type": "code",
        "id": "8BdxJc2nzIXa",
        "colab": {}
      },
      "source": [
        "# Atribuição da coluna alvo para as colunas relevantes presentes no arquivo xlsx\n",
        "relevant_features.append(target)"
      ],
      "execution_count": null,
      "outputs": []
    },
    {
      "cell_type": "code",
      "metadata": {
        "ExecuteTime": {
          "end_time": "2019-03-19T13:18:30.960553Z",
          "start_time": "2019-03-19T13:17:03.143562Z"
        },
        "colab_type": "code",
        "id": "9Il4LBqyzIXe",
        "colab": {}
      },
      "source": [
        "# Carregamento dos dados utilizando a biblioteca Dask para melhor performance\n",
        "file = 'Microsoft_Malware_Prediction.csv'\n",
        "ddf = dd.read_csv(file, dtype = dtypes)\n",
        "df = ddf.compute()"
      ],
      "execution_count": null,
      "outputs": []
    },
    {
      "cell_type": "code",
      "metadata": {
        "ExecuteTime": {
          "end_time": "2019-03-19T13:18:30.973747Z",
          "start_time": "2019-03-19T13:18:30.960553Z"
        },
        "colab_type": "code",
        "id": "I6xVY1CczIXh",
        "colab": {},
        "outputId": "bdbc9694-00d1-49f3-ec94-3f8ff168f499"
      },
      "source": [
        "# Forma do conjunto de dados (linhas, colunas)\n",
        "df.shape"
      ],
      "execution_count": null,
      "outputs": [
        {
          "output_type": "execute_result",
          "data": {
            "text/plain": [
              "(8921483, 83)"
            ]
          },
          "metadata": {
            "tags": []
          },
          "execution_count": 8
        }
      ]
    },
    {
      "cell_type": "code",
      "metadata": {
        "ExecuteTime": {
          "end_time": "2019-03-19T13:18:31.600924Z",
          "start_time": "2019-03-19T13:18:30.975834Z"
        },
        "colab_type": "code",
        "id": "D5g-tGZkzIXl",
        "colab": {}
      },
      "source": [
        "# Remodelagem do conjunto de dados contendo somente as colunas relevantes presentes no arquivo .xlsx\n",
        "df = df[relevant_features]"
      ],
      "execution_count": null,
      "outputs": []
    },
    {
      "cell_type": "code",
      "metadata": {
        "ExecuteTime": {
          "end_time": "2019-03-19T13:18:31.608962Z",
          "start_time": "2019-03-19T13:18:31.600924Z"
        },
        "colab_type": "code",
        "id": "nDGBpcZLzIXo",
        "colab": {},
        "outputId": "2f20081c-1008-4ea9-8132-a0f93ab607d0"
      },
      "source": [
        "# Forma do conjunto de dados remodelado (linhas, colunas)\n",
        "df.shape"
      ],
      "execution_count": null,
      "outputs": [
        {
          "output_type": "execute_result",
          "data": {
            "text/plain": [
              "(8921483, 70)"
            ]
          },
          "metadata": {
            "tags": []
          },
          "execution_count": 10
        }
      ]
    },
    {
      "cell_type": "code",
      "metadata": {
        "ExecuteTime": {
          "end_time": "2019-03-19T13:18:36.508577Z",
          "start_time": "2019-03-19T13:18:31.611008Z"
        },
        "colab_type": "code",
        "id": "psNMIeLJzIXs",
        "colab": {}
      },
      "source": [
        "# Conversão dos tipos de dados para o conjunto remodelado\n",
        "df = convert_types(df)"
      ],
      "execution_count": null,
      "outputs": []
    },
    {
      "cell_type": "markdown",
      "metadata": {
        "colab_type": "text",
        "id": "w_7NUkD_zIXw"
      },
      "source": [
        "# **Limpeza de Dados**"
      ]
    },
    {
      "cell_type": "code",
      "metadata": {
        "ExecuteTime": {
          "end_time": "2019-03-19T13:18:36.524198Z",
          "start_time": "2019-03-19T13:18:36.508577Z"
        },
        "colab_type": "code",
        "id": "WdGmwjD8zIXx",
        "colab": {}
      },
      "source": [
        "# Divisão das características em categóricas, binárias e numéricas (com base no arquivo .xlsx)\n",
        "numerical_features = excel_table[excel_table['FeatureType']=='Numeric']['Feature'].reset_index(drop=True)\n",
        "categorical_features = excel_table[excel_table['FeatureType']=='Category']['Feature'].reset_index(drop=True)\n",
        "binary_features = excel_table[excel_table['FeatureType']=='Boolean']['Feature'].reset_index(drop=True)"
      ],
      "execution_count": null,
      "outputs": []
    },
    {
      "cell_type": "code",
      "metadata": {
        "ExecuteTime": {
          "end_time": "2019-03-19T13:18:36.533208Z",
          "start_time": "2019-03-19T13:18:36.524198Z"
        },
        "colab_type": "code",
        "id": "aj2cfg1ezIXz",
        "colab": {},
        "outputId": "bb139220-7ff1-475e-ad52-178a93e3e0f1"
      },
      "source": [
        "# Exibição das características binárias\n",
        "binary_features"
      ],
      "execution_count": null,
      "outputs": [
        {
          "output_type": "execute_result",
          "data": {
            "text/plain": [
              "0                  Census_HasOpticalDiskDrive\n",
              "1     Census_IsAlwaysOnAlwaysConnectedCapable\n",
              "2                         Census_IsPenCapable\n",
              "3            Census_IsPortableOperatingSystem\n",
              "4                  Census_IsSecureBootEnabled\n",
              "5                       Census_IsTouchEnabled\n",
              "6                      Census_IsVirtualDevice\n",
              "7                                    Firewall\n",
              "8                                      HasTpm\n",
              "9                                 IsProtected\n",
              "10                           IsSxsPassiveMode\n",
              "11                                      SMode\n",
              "12                               Wdft_IsGamer\n",
              "Name: Feature, dtype: object"
            ]
          },
          "metadata": {
            "tags": []
          },
          "execution_count": 13
        }
      ]
    },
    {
      "cell_type": "code",
      "metadata": {
        "ExecuteTime": {
          "end_time": "2019-03-19T13:18:36.550858Z",
          "start_time": "2019-03-19T13:18:36.534204Z"
        },
        "colab_type": "code",
        "id": "segqa9hRzIX2",
        "colab": {}
      },
      "source": [
        "# Criação de listas para codificação e limpeza de dados\n",
        "list_frequency_encoding = []\n",
        "list_nan_minus1 = []\n",
        "list_nan_0 = []\n",
        "list_nan_1 = []"
      ],
      "execution_count": null,
      "outputs": []
    },
    {
      "cell_type": "markdown",
      "metadata": {
        "colab_type": "text",
        "id": "aPLeSmg8zIX5"
      },
      "source": [
        "## **Numéricas**"
      ]
    },
    {
      "cell_type": "code",
      "metadata": {
        "ExecuteTime": {
          "end_time": "2019-03-19T13:18:36.775046Z",
          "start_time": "2019-03-19T13:18:36.550858Z"
        },
        "colab_type": "code",
        "id": "vJMLMY7HzIX6",
        "colab": {}
      },
      "source": [
        "# Substituição de valores NaN por \"-1\" e armazenamento dessas características em \"list_nan_minus1\"\n",
        "for feature in numerical_features:\n",
        "    tmp1 = len(df)\n",
        "    df[feature] = df[feature].fillna(-1)\n",
        "    list_nan_minus1.append(feature)"
      ],
      "execution_count": null,
      "outputs": []
    },
    {
      "cell_type": "markdown",
      "metadata": {
        "colab_type": "text",
        "id": "03GwhInPzIX9"
      },
      "source": [
        "## **Binárias**"
      ]
    },
    {
      "cell_type": "code",
      "metadata": {
        "ExecuteTime": {
          "end_time": "2019-03-19T13:18:47.179763Z",
          "start_time": "2019-03-19T13:18:36.775046Z"
        },
        "colab_type": "code",
        "id": "FgwpFER5zIX9",
        "colab": {}
      },
      "source": [
        "# Substituição de todos os valores NaN com o valor mais frequente de cada característica, armazenando as características em respectivas listas\n",
        "for feature in binary_features:\n",
        "    df[feature] = df[feature].fillna(df[feature].mode()[0])\n",
        "    if df[feature].mode()[0] == 0:\n",
        "        list_nan_0.append(feature)\n",
        "    else:\n",
        "        list_nan_1.append(feature)"
      ],
      "execution_count": null,
      "outputs": []
    },
    {
      "cell_type": "markdown",
      "metadata": {
        "colab_type": "text",
        "id": "EtsLD6J1zIYA"
      },
      "source": [
        "## **Categóricas**"
      ]
    },
    {
      "cell_type": "code",
      "metadata": {
        "ExecuteTime": {
          "end_time": "2019-03-19T13:18:48.007370Z",
          "start_time": "2019-03-19T13:18:47.179763Z"
        },
        "colab_type": "code",
        "id": "IEvEzfttzIYB",
        "colab": {}
      },
      "source": [
        "# Renomeação de valores NaN como \"-1\" em todas as características que não são categóricas\n",
        "correct_feature_by_hand = [] \n",
        "for feature in categorical_features:\n",
        "    t = pd.api.types.is_categorical_dtype(df[feature])\n",
        "    if not t:\n",
        "        # Renomeação de valores NaN para \"-1\"\n",
        "        df[feature] = df[feature].fillna(-1)\n",
        "        list_nan_minus1.append(feature)\n",
        "    else:\n",
        "        # Adição à lista, para análise\n",
        "        correct_feature_by_hand.append(feature)"
      ],
      "execution_count": null,
      "outputs": []
    },
    {
      "cell_type": "markdown",
      "metadata": {
        "colab_type": "text",
        "id": "0NfYue3KJilt"
      },
      "source": [
        "## **Tratamento manual de características**"
      ]
    },
    {
      "cell_type": "markdown",
      "metadata": {
        "ExecuteTime": {
          "end_time": "2019-03-19T12:53:54.184620Z",
          "start_time": "2019-03-19T12:53:54.182625Z"
        },
        "colab_type": "text",
        "id": "F7P6kkXIzIYE"
      },
      "source": [
        "Para melhor aproveitamento e análise, MICHAELS; IMORDE modifica manualmente o conjunto de dados. Modificando valores nominais para caixa baixa; mesclando valores com diferentes ortografias; definindo valores NaN e valores com raras ocorrências para o termo \"unknown\"; rotulando todos os valores para valores numéricos e adicionando categorias para cada lista de codificação correspondente.\n",
        "\n",
        "\n",
        "\n"
      ]
    },
    {
      "cell_type": "code",
      "metadata": {
        "ExecuteTime": {
          "end_time": "2019-03-19T13:18:48.022992Z",
          "start_time": "2019-03-19T13:18:48.007370Z"
        },
        "colab_type": "code",
        "id": "d_lWevOrzIYF",
        "colab": {},
        "outputId": "fa521c64-c62f-4d0d-da50-ab32be7adc1a"
      },
      "source": [
        "correct_feature_by_hand"
      ],
      "execution_count": null,
      "outputs": [
        {
          "output_type": "execute_result",
          "data": {
            "text/plain": [
              "['AppVersion',\n",
              " 'AvSigVersion',\n",
              " 'Census_ActivationChannel',\n",
              " 'Census_ChassisTypeName',\n",
              " 'Census_DeviceFamily',\n",
              " 'Census_FlightRing',\n",
              " 'Census_GenuineStateName',\n",
              " 'Census_MDC2FormFactor',\n",
              " 'Census_OSArchitecture',\n",
              " 'Census_OSBranch',\n",
              " 'Census_OSEdition',\n",
              " 'Census_OSInstallTypeName',\n",
              " 'Census_OSSkuName',\n",
              " 'Census_OSVersion',\n",
              " 'Census_OSWUAutoUpdateOptionsName',\n",
              " 'Census_PowerPlatformRoleName',\n",
              " 'Census_PrimaryDiskTypeName',\n",
              " 'EngineVersion',\n",
              " 'MachineIdentifier',\n",
              " 'OsBuildLab',\n",
              " 'OsPlatformSubRelease',\n",
              " 'OsVer',\n",
              " 'Platform',\n",
              " 'Processor',\n",
              " 'SkuEdition',\n",
              " 'SmartScreen']"
            ]
          },
          "metadata": {
            "tags": []
          },
          "execution_count": 18
        }
      ]
    },
    {
      "cell_type": "code",
      "metadata": {
        "ExecuteTime": {
          "end_time": "2019-03-19T13:18:53.804221Z",
          "start_time": "2019-03-19T13:18:48.022992Z"
        },
        "colab_type": "code",
        "id": "gZY41I3vzIYH",
        "colab": {}
      },
      "source": [
        "for feature in correct_feature_by_hand:\n",
        "    df[feature] = df[feature].str.lower()"
      ],
      "execution_count": null,
      "outputs": []
    },
    {
      "cell_type": "code",
      "metadata": {
        "ExecuteTime": {
          "end_time": "2019-03-19T13:18:53.819800Z",
          "start_time": "2019-03-19T13:18:53.804221Z"
        },
        "colab_type": "code",
        "id": "HdV8oL2yzIYJ",
        "colab": {}
      },
      "source": [
        "list_frequency_encoding.append('AppVersion')"
      ],
      "execution_count": null,
      "outputs": []
    },
    {
      "cell_type": "code",
      "metadata": {
        "ExecuteTime": {
          "end_time": "2019-03-19T13:18:53.976011Z",
          "start_time": "2019-03-19T13:18:53.819800Z"
        },
        "colab_type": "code",
        "id": "Sxt9Y6A5zIYL",
        "colab": {}
      },
      "source": [
        "df['AvSigVersion'].replace(['1.2&#x17;3.1144.0'], '1.2173.1144.0', inplace=True)\n",
        "list_frequency_encoding.append('AvSigVersion')"
      ],
      "execution_count": null,
      "outputs": []
    },
    {
      "cell_type": "code",
      "metadata": {
        "ExecuteTime": {
          "end_time": "2019-03-19T13:18:54.007250Z",
          "start_time": "2019-03-19T13:18:53.976011Z"
        },
        "colab_type": "code",
        "id": "THh55iXxzIYN",
        "colab": {}
      },
      "source": [
        "def rename_Census_ActivationChannel(x):\n",
        "    x = x.lower()\n",
        "    if 'oem' in x:\n",
        "        return 'oem'\n",
        "    elif 'volume' in x:\n",
        "        return 'volume'\n",
        "    elif 'retail' in x:\n",
        "        return 'retail'\n",
        "    else:\n",
        "        return x"
      ],
      "execution_count": null,
      "outputs": []
    },
    {
      "cell_type": "code",
      "metadata": {
        "ExecuteTime": {
          "end_time": "2019-03-19T13:18:57.132408Z",
          "start_time": "2019-03-19T13:18:54.007250Z"
        },
        "colab_type": "code",
        "id": "vTjjPeMJzIYQ",
        "colab": {}
      },
      "source": [
        "df['Census_ActivationChannel'] = df['Census_ActivationChannel'].astype(str)\n",
        "df['Census_ActivationChannel'] = df['Census_ActivationChannel'].apply(rename_Census_ActivationChannel)\n",
        "df['Census_ActivationChannel'] = df['Census_ActivationChannel'].astype('category')"
      ],
      "execution_count": null,
      "outputs": []
    },
    {
      "cell_type": "code",
      "metadata": {
        "ExecuteTime": {
          "end_time": "2019-03-19T13:18:57.148028Z",
          "start_time": "2019-03-19T13:18:57.132408Z"
        },
        "colab_type": "code",
        "id": "lAx46YEazIYS",
        "colab": {}
      },
      "source": [
        "def rename_Census_ChassisTypeName(x):\n",
        "    x = x.lower()\n",
        "    if 'laptop' in x:\n",
        "        return 'Notebook'\n",
        "    elif 'other' in x:\n",
        "        return 'unknown'                  \n",
        "    else:\n",
        "        return x"
      ],
      "execution_count": null,
      "outputs": []
    },
    {
      "cell_type": "code",
      "metadata": {
        "ExecuteTime": {
          "end_time": "2019-03-19T13:19:01.195127Z",
          "start_time": "2019-03-19T13:18:57.148028Z"
        },
        "colab_type": "code",
        "id": "ff4oAhCSzIYV",
        "colab": {}
      },
      "source": [
        "df['Census_ChassisTypeName'] = df['Census_ChassisTypeName'].fillna('unknown')\n",
        "df['Census_ChassisTypeName'] = df['Census_ChassisTypeName'].astype(str)\n",
        "df['Census_ChassisTypeName'] = df['Census_ChassisTypeName'].apply(rename_Census_ChassisTypeName)\n",
        "df['Census_ChassisTypeName'] = df['Census_ChassisTypeName'].astype('category')\n",
        "df['Census_ChassisTypeName'] = df['Census_ChassisTypeName'].cat.remove_unused_categories()"
      ],
      "execution_count": null,
      "outputs": []
    },
    {
      "cell_type": "code",
      "metadata": {
        "ExecuteTime": {
          "end_time": "2019-03-19T13:19:02.117584Z",
          "start_time": "2019-03-19T13:19:01.195127Z"
        },
        "colab_type": "code",
        "id": "bW3kA3pdzIYZ",
        "colab": {}
      },
      "source": [
        "df['Census_DeviceFamily'].replace(['windows'], 'windows.desktop', inplace=True)\n",
        "df['Census_DeviceFamily'] = df['Census_DeviceFamily'].astype('category')\n",
        "df['Census_DeviceFamily'] = df['Census_DeviceFamily'].cat.remove_unused_categories()"
      ],
      "execution_count": null,
      "outputs": []
    },
    {
      "cell_type": "code",
      "metadata": {
        "ExecuteTime": {
          "end_time": "2019-03-19T13:19:02.850799Z",
          "start_time": "2019-03-19T13:19:02.117584Z"
        },
        "colab_type": "code",
        "id": "iHTyCVGSzIYb",
        "colab": {}
      },
      "source": [
        "df['Census_FlightRing'].replace(['disabled'], 'not_set', inplace=True)\n",
        "df['Census_FlightRing'].replace(['osg', 'canary', 'invalid'], 'unknown', inplace=True)\n",
        "\n",
        "df['Census_FlightRing'] = df['Census_FlightRing'].astype('category')\n",
        "\n",
        "df['Census_FlightRing'] = df['Census_FlightRing'].fillna('unknown')\n",
        "df['Census_FlightRing'] = df['Census_FlightRing'].cat.remove_unused_categories()"
      ],
      "execution_count": null,
      "outputs": []
    },
    {
      "cell_type": "code",
      "metadata": {
        "ExecuteTime": {
          "end_time": "2019-03-19T13:19:03.647459Z",
          "start_time": "2019-03-19T13:19:02.850799Z"
        },
        "colab_type": "code",
        "id": "WKDaUNG_zIYd",
        "colab": {}
      },
      "source": [
        "df['Census_GenuineStateName'].replace(['tampered'], 'unknown', inplace=True)\n",
        "df['Census_GenuineStateName'] = df['Census_GenuineStateName'].astype('category')\n",
        "df['Census_GenuineStateName'] = df['Census_GenuineStateName'].fillna('unknown')\n",
        "df['Census_GenuineStateName'] = df['Census_GenuineStateName'].cat.remove_unused_categories()"
      ],
      "execution_count": null,
      "outputs": []
    },
    {
      "cell_type": "code",
      "metadata": {
        "ExecuteTime": {
          "end_time": "2019-03-19T13:19:03.694339Z",
          "start_time": "2019-03-19T13:19:03.647459Z"
        },
        "colab_type": "code",
        "id": "EwjHQie6zIYg",
        "colab": {}
      },
      "source": [
        "df['Census_MDC2FormFactor_new'] = df['Census_MDC2FormFactor']\n",
        "correct_feature_by_hand.append('Census_MDC2FormFactor_new')"
      ],
      "execution_count": null,
      "outputs": []
    },
    {
      "cell_type": "code",
      "metadata": {
        "ExecuteTime": {
          "end_time": "2019-03-19T13:19:03.710007Z",
          "start_time": "2019-03-19T13:19:03.694339Z"
        },
        "colab_type": "code",
        "id": "WJDPTxzHzIYi",
        "colab": {}
      },
      "source": [
        "def rename_Census_MDC2FormFactor_new(x):\n",
        "    x = x.lower()\n",
        "    if 'server' in x:\n",
        "        return 'server'\n",
        "    elif 'tablet' in x:\n",
        "        return 'tablet'                  \n",
        "    else:\n",
        "        return x"
      ],
      "execution_count": null,
      "outputs": []
    },
    {
      "cell_type": "code",
      "metadata": {
        "ExecuteTime": {
          "end_time": "2019-03-19T13:19:07.537855Z",
          "start_time": "2019-03-19T13:19:03.710007Z"
        },
        "colab_type": "code",
        "id": "7kUnayTTzIYl",
        "colab": {}
      },
      "source": [
        "df['Census_MDC2FormFactor_new'] = df['Census_MDC2FormFactor_new'].astype(str)\n",
        "df['Census_MDC2FormFactor_new'] = df['Census_MDC2FormFactor_new'].apply(rename_Census_MDC2FormFactor_new)\n",
        "df['Census_MDC2FormFactor_new'] = df['Census_MDC2FormFactor_new'].astype('category')\n",
        "df['Census_MDC2FormFactor_new'] = df['Census_MDC2FormFactor_new'].cat.remove_unused_categories()"
      ],
      "execution_count": null,
      "outputs": []
    },
    {
      "cell_type": "code",
      "metadata": {
        "ExecuteTime": {
          "end_time": "2019-03-19T13:19:07.553474Z",
          "start_time": "2019-03-19T13:19:07.537855Z"
        },
        "colab_type": "code",
        "id": "ys4yZULhzIYn",
        "colab": {}
      },
      "source": [
        "def rename_Census_OSEdition(x):\n",
        "    x = x.lower()\n",
        "    if 'core' in x:\n",
        "        return 'core'\n",
        "    elif 'pro' in x:\n",
        "        return 'pro'\n",
        "    elif 'enterprise' in x:\n",
        "        return 'enterprise'\n",
        "    elif 'server' in x:\n",
        "        return 'server'\n",
        "    elif 'home' in x:\n",
        "        return 'home'\n",
        "    elif 'education' in x:\n",
        "        return 'education'\n",
        "    elif 'cloud' in x:\n",
        "        return 'cloud'\n",
        "    else:\n",
        "        return x"
      ],
      "execution_count": null,
      "outputs": []
    },
    {
      "cell_type": "code",
      "metadata": {
        "ExecuteTime": {
          "end_time": "2019-03-19T13:19:11.382238Z",
          "start_time": "2019-03-19T13:19:07.553474Z"
        },
        "colab_type": "code",
        "id": "8R_rHpuDzIYp",
        "colab": {}
      },
      "source": [
        "df['Census_OSEdition'] = df['Census_OSEdition'].astype('category')\n",
        "df['Census_OSEdition'] = df['Census_OSEdition'].cat.add_categories(['unknown'])\n",
        "df['Census_OSEdition'] = df['Census_OSEdition'].fillna('unknown')\n",
        "df['Census_OSEdition'] = df['Census_OSEdition'].astype(str)\n",
        "df['Census_OSEdition'] = df['Census_OSEdition'].apply(rename_Census_OSEdition)\n",
        "df['Census_OSEdition'] = df['Census_OSEdition'].astype('category')\n",
        "df['Census_OSEdition'] = df['Census_OSEdition'].cat.remove_unused_categories()"
      ],
      "execution_count": null,
      "outputs": []
    },
    {
      "cell_type": "code",
      "metadata": {
        "ExecuteTime": {
          "end_time": "2019-03-19T13:19:11.397890Z",
          "start_time": "2019-03-19T13:19:11.382238Z"
        },
        "colab_type": "code",
        "id": "pXOLp-2YzIYr",
        "colab": {}
      },
      "source": [
        "def rename_Census_OSSkuName(x):\n",
        "    x = x.lower()\n",
        "    if 'core' in x:\n",
        "        return 'core'\n",
        "    elif 'pro' in x:\n",
        "        return 'pro'\n",
        "    elif 'enterprise' in x:\n",
        "        return 'enterprise'\n",
        "    elif 'server' in x:\n",
        "        return 'server'\n",
        "    elif 'home' in x:\n",
        "        return 'home'\n",
        "    elif 'education' in x:\n",
        "        return 'education'\n",
        "    elif 'cloud' in x:\n",
        "        return 'cloud'\n",
        "    else:\n",
        "        return x"
      ],
      "execution_count": null,
      "outputs": []
    },
    {
      "cell_type": "code",
      "metadata": {
        "ExecuteTime": {
          "end_time": "2019-03-19T13:19:14.648193Z",
          "start_time": "2019-03-19T13:19:11.397890Z"
        },
        "colab_type": "code",
        "id": "XD_clsqOzIYt",
        "colab": {}
      },
      "source": [
        "df['Census_OSSkuName'] = df['Census_OSSkuName'].astype(str)\n",
        "df['Census_OSSkuName'] = df['Census_OSSkuName'].apply(rename_Census_OSSkuName)\n",
        "df['Census_OSSkuName'] = df['Census_OSSkuName'].astype('category')\n",
        "df['Census_OSSkuName'] = df['Census_OSSkuName'].cat.remove_unused_categories()"
      ],
      "execution_count": null,
      "outputs": []
    },
    {
      "cell_type": "code",
      "metadata": {
        "ExecuteTime": {
          "end_time": "2019-03-19T13:19:14.663784Z",
          "start_time": "2019-03-19T13:19:14.648193Z"
        },
        "colab_type": "code",
        "id": "pWRRVH9AzIYw",
        "colab": {}
      },
      "source": [
        "list_frequency_encoding.append('Census_OSVersion')"
      ],
      "execution_count": null,
      "outputs": []
    },
    {
      "cell_type": "code",
      "metadata": {
        "ExecuteTime": {
          "end_time": "2019-03-19T13:19:15.427343Z",
          "start_time": "2019-03-19T13:19:14.663784Z"
        },
        "colab_type": "code",
        "id": "7wgyF1nxzIYy",
        "colab": {}
      },
      "source": [
        "df['Census_PowerPlatformRoleName'].replace(['unspecified'], 'unknown', inplace=True)\n",
        "df['Census_PowerPlatformRoleName'] = df['Census_PowerPlatformRoleName'].astype('category')\n",
        "df['Census_PowerPlatformRoleName'] = df['Census_PowerPlatformRoleName'].fillna('unknown')\n",
        "df['Census_PowerPlatformRoleName'] = df['Census_PowerPlatformRoleName'].cat.remove_unused_categories()"
      ],
      "execution_count": null,
      "outputs": []
    },
    {
      "cell_type": "code",
      "metadata": {
        "ExecuteTime": {
          "end_time": "2019-03-19T13:19:16.179992Z",
          "start_time": "2019-03-19T13:19:15.427343Z"
        },
        "colab_type": "code",
        "id": "m-x2QEwdzIY2",
        "colab": {}
      },
      "source": [
        "df['Census_PrimaryDiskTypeName'].replace(['unspecified'], 'unknown', inplace=True)\n",
        "df['Census_PrimaryDiskTypeName'] = df['Census_PrimaryDiskTypeName'].astype('category')\n",
        "df['Census_PrimaryDiskTypeName'] = df['Census_PrimaryDiskTypeName'].fillna('unknown')\n",
        "df['Census_PrimaryDiskTypeName'] = df['Census_PrimaryDiskTypeName'].cat.remove_unused_categories()"
      ],
      "execution_count": null,
      "outputs": []
    },
    {
      "cell_type": "code",
      "metadata": {
        "ExecuteTime": {
          "end_time": "2019-03-19T13:19:16.195613Z",
          "start_time": "2019-03-19T13:19:16.179992Z"
        },
        "colab_type": "code",
        "id": "rG9tNOHMzIY4",
        "colab": {}
      },
      "source": [
        "list_frequency_encoding.append('EngineVersion')"
      ],
      "execution_count": null,
      "outputs": []
    },
    {
      "cell_type": "code",
      "metadata": {
        "ExecuteTime": {
          "end_time": "2019-03-19T13:19:16.617425Z",
          "start_time": "2019-03-19T13:19:16.195613Z"
        },
        "colab_type": "code",
        "id": "XNJfIEBQzIY6",
        "scrolled": true,
        "colab": {}
      },
      "source": [
        "df['OsBuildLab'] = df['OsBuildLab'].astype('category')\n",
        "df['OsBuildLab'] = df['OsBuildLab'].cat.add_categories(['unknown'])\n",
        "df['OsBuildLab'] = df['OsBuildLab'].fillna('unknown')\n",
        "list_frequency_encoding.append('OsBuildLab')"
      ],
      "execution_count": null,
      "outputs": []
    },
    {
      "cell_type": "code",
      "metadata": {
        "ExecuteTime": {
          "end_time": "2019-03-19T13:19:16.633046Z",
          "start_time": "2019-03-19T13:19:16.617425Z"
        },
        "colab_type": "code",
        "id": "S6Tw3_ghzIY8",
        "colab": {}
      },
      "source": [
        "def rename_SmartScreen(x):\n",
        "    x = x.lower()\n",
        "    if 'promt' in x:\n",
        "        return 'prompt'\n",
        "    elif 'requireadmin' in x:\n",
        "        return 'requireadmin'\n",
        "    elif 'existsnotset' in x:\n",
        "        return 'existsnotset'\n",
        "    elif 'off' in x:\n",
        "        return 'off'\n",
        "    elif 'warn' in x:\n",
        "        return 'warn'\n",
        "    elif 'prompt' in x:\n",
        "        return 'prompt'\n",
        "    elif 'block' in x:\n",
        "        return 'block'\n",
        "    elif 'on' in x:\n",
        "        return 'on'   \n",
        "    else:\n",
        "        return 'unknown'"
      ],
      "execution_count": null,
      "outputs": []
    },
    {
      "cell_type": "code",
      "metadata": {
        "ExecuteTime": {
          "end_time": "2019-03-19T13:19:21.319450Z",
          "start_time": "2019-03-19T13:19:16.633046Z"
        },
        "colab_type": "code",
        "id": "yTciJ93JzIY-",
        "colab": {}
      },
      "source": [
        "df['SmartScreen'] = df['SmartScreen'].astype('category')\n",
        "df['SmartScreen'] = df['SmartScreen'].cat.add_categories(['unknown'])\n",
        "df['SmartScreen'] = df['SmartScreen'].fillna('unknown')\n",
        "df['SmartScreen'] = df['SmartScreen'].astype(str)\n",
        "df['SmartScreen'] = df['SmartScreen'].apply(rename_SmartScreen)\n",
        "df['SmartScreen'] = df['SmartScreen'].astype('category')\n",
        "df['SmartScreen'] = df['SmartScreen'].cat.remove_unused_categories()"
      ],
      "execution_count": null,
      "outputs": []
    },
    {
      "cell_type": "code",
      "metadata": {
        "ExecuteTime": {
          "end_time": "2019-03-19T13:19:21.326865Z",
          "start_time": "2019-03-19T13:19:21.319450Z"
        },
        "colab_type": "code",
        "id": "ai8UDUdWzIZB",
        "colab": {},
        "outputId": "c07a3503-fce0-4aaf-9ea2-07717489c2a6"
      },
      "source": [
        "df.shape"
      ],
      "execution_count": null,
      "outputs": [
        {
          "output_type": "execute_result",
          "data": {
            "text/plain": [
              "(8921483, 71)"
            ]
          },
          "metadata": {
            "tags": []
          },
          "execution_count": 43
        }
      ]
    },
    {
      "cell_type": "markdown",
      "metadata": {
        "ExecuteTime": {
          "end_time": "2019-03-19T13:11:46.511081Z",
          "start_time": "2019-03-19T13:11:46.508089Z"
        },
        "colab_type": "text",
        "id": "zd9B56wTzIZD"
      },
      "source": [
        "# **Exportação de Dados**"
      ]
    },
    {
      "cell_type": "code",
      "metadata": {
        "ExecuteTime": {
          "end_time": "2019-03-19T13:25:13.053698Z",
          "start_time": "2019-03-19T13:19:21.328891Z"
        },
        "colab_type": "code",
        "id": "CRj0LaBkzIZD",
        "scrolled": true,
        "colab": {}
      },
      "source": [
        "# Exportação do conjunto de dados para o arquivo \"train_cleaned.csv\"\n",
        "df.to_csv('MMP_Cleaned.csv', index = False)"
      ],
      "execution_count": null,
      "outputs": []
    }
  ]
}